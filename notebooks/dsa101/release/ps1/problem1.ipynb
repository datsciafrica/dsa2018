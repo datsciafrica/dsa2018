{
 "cells": [
  {
   "cell_type": "markdown",
   "metadata": {},
   "source": [
    "Before you turn this problem in, make sure everything runs as expected. First, **restart the kernel** (in the menubar, select Kernel$\\rightarrow$Restart) and then **run all cells** (in the menubar, select Cell$\\rightarrow$Run All).\n",
    "\n",
    "Make sure you fill in any place that says `YOUR CODE HERE` or \"YOUR ANSWER HERE\", as well as your name and collaborators below:"
   ]
  },
  {
   "cell_type": "code",
   "execution_count": null,
   "metadata": {},
   "outputs": [],
   "source": [
    "NAME = \"\"\n",
    "COLLABORATORS = \"\""
   ]
  },
  {
   "cell_type": "markdown",
   "metadata": {},
   "source": [
    "---"
   ]
  },
  {
   "cell_type": "markdown",
   "metadata": {},
   "source": [
    "# DSA 2018 Nyeri Preparatory Notebook\n",
    "By Ciira Maina\n",
    "\n",
    "\n",
    "In preparation for DSA 2018 Nyeri, we would like potential participants to complete a number of exercises in probability, machine learning and programming to ensure that they have the necessary prerequisite knowledge to attend the summer school. You will be required to submit notebooks with solutions to these exercises during the application process.\n",
    "\n",
    "In this first exercise we will require you to download a dataset and perform computations on the data. These data are from a paper in 1966 by Cox and Lewis and report the time difference between nerve pulses on a nerve fibre. 799 observations are reported. These data are used for some examples in the text [\"All of Statistics\"](http://www.stat.cmu.edu/~larry/all-of-statistics/) by Larry Wasserman.\n",
    "\n",
    "The data are available [here](http://www.stat.cmu.edu/~larry/all-of-statistics/=data/nerve.dat)\n",
    "\n",
    "## Obtain the data\n",
    "\n",
    "Write code to obtain the data from the website above and store it in a one dimensional array of floating point numbers."
   ]
  },
  {
   "cell_type": "code",
   "execution_count": null,
   "metadata": {
    "deletable": false,
    "nbgrader": {
     "checksum": "e65290d14c3ee344b33add20fb3da010",
     "grade": true,
     "grade_id": "cell-8b789c350a9f25d6",
     "locked": false,
     "points": 5,
     "schema_version": 1,
     "solution": true
    }
   },
   "outputs": [],
   "source": [
    "import urllib.request\n",
    "import numpy as np\n",
    "\n",
    "\n",
    "# Your code here\n",
    "# YOUR CODE HERE\n",
    "raise NotImplementedError()"
   ]
  },
  {
   "cell_type": "code",
   "execution_count": null,
   "metadata": {
    "deletable": false,
    "editable": false,
    "nbgrader": {
     "checksum": "35ef2db913a1109859fbb3b785409dba",
     "grade": true,
     "grade_id": "cell-88e09d936386e957",
     "locked": true,
     "points": 2,
     "schema_version": 1,
     "solution": false
    }
   },
   "outputs": [],
   "source": [
    "### BEGIN HIDDEN_TESTS\n",
    "assert len(nerve_data) == 799\n",
    "### END HIDDEN_TESTS"
   ]
  },
  {
   "cell_type": "markdown",
   "metadata": {},
   "source": [
    "## Preliminary Visualisation\n",
    "\n",
    "Plot a histogram of the data. Ensure you label your axes."
   ]
  },
  {
   "cell_type": "code",
   "execution_count": null,
   "metadata": {
    "deletable": false,
    "nbgrader": {
     "checksum": "cca9dca4af06df4f46bdce7904b7b55d",
     "grade": true,
     "grade_id": "cell-eb77be4ffc0854f8",
     "locked": false,
     "points": 5,
     "schema_version": 1,
     "solution": true
    }
   },
   "outputs": [],
   "source": [
    "import matplotlib.pyplot as plt\n",
    "%matplotlib inline\n",
    "\n",
    "#Your code here\n",
    "# YOUR CODE HERE\n",
    "raise NotImplementedError()"
   ]
  },
  {
   "cell_type": "markdown",
   "metadata": {},
   "source": [
    "## Preliminary analysis\n",
    "\n",
    "The cumulative distribution function of a random variable $\\mathbf{X}$ is given by\n",
    "\n",
    "$\n",
    "\\begin{equation}\n",
    "F_X(x)=P(\\mathbf{X}\\leq x)\n",
    "\\end{equation}$\n",
    "\n",
    "If we obtain $n$ observations $X_1,\\ldots,X_n$ from this distribution, the empirical distibution function is given by\n",
    "\n",
    "$\n",
    "\\begin{equation}\n",
    "\\hat{F}_n(x)=\\frac{\\sum_{i=1}^n\\mathbf{I}(X_i\\leq x)}{n}\n",
    "\\end{equation}$\n",
    "\n",
    "where\n",
    "$\n",
    " \\begin{equation}\n",
    "       \\mathbf{I}(X_i\\leq x) = \n",
    "        \\begin{cases}\n",
    "            1 & \\text{if $X_i\\leq x $} \\\\\n",
    "            0 & \\text{if $X_i> x$} \n",
    "        \\end{cases}\n",
    "    \\end{equation}\n",
    "$\n",
    "* Plot the empirical distribution function of the nerve pulse data\n",
    "* Estimate the probability that the wait time between nerve pulses is less than $0.3$ - We will call this P1\n",
    "* Estimate the probability that the wait time between nerve pulses is between $0.1$ and $0.3$ - We will call this P2\n",
    "\n"
   ]
  },
  {
   "cell_type": "code",
   "execution_count": null,
   "metadata": {
    "deletable": false,
    "nbgrader": {
     "checksum": "332c9ea600176bdf80c312dbcf4b7052",
     "grade": true,
     "grade_id": "cell-ce56deb8dc558f32",
     "locked": false,
     "points": 5,
     "schema_version": 1,
     "solution": true
    }
   },
   "outputs": [],
   "source": [
    "x=np.linspace(0,np.max(nerve_data),100)\n",
    "cdf=np.zeros(100)\n",
    "\n",
    "# Your code here\n",
    "# YOUR CODE HERE\n",
    "raise NotImplementedError()\n",
    "\n",
    "#Your code here\n",
    "#P1=\n",
    "#P2="
   ]
  },
  {
   "cell_type": "code",
   "execution_count": null,
   "metadata": {
    "deletable": false,
    "editable": false,
    "nbgrader": {
     "checksum": "65741efc3a65c7e8b8b08bbb528908a4",
     "grade": true,
     "grade_id": "cell-96dbfa4daec9607c",
     "locked": true,
     "points": 2,
     "schema_version": 1,
     "solution": false
    }
   },
   "outputs": [],
   "source": [
    "### BEGIN HIDDEN_TESTS\n",
    "assert abs(P1-0.760951188986) < 1e-6\n",
    "assert abs(P2-0.377972465582) < 1e-6\n",
    "### END HIDDEN_TESTS"
   ]
  },
  {
   "cell_type": "markdown",
   "metadata": {},
   "source": [
    "## Estimating properties of the distribution\n",
    "\n",
    "We can estimate properties of the true distribution of the data $F_X(x)$ using the empirical distribution function $\\hat{F}_n(x)$. To do this we can use \"plug in\" estimators. Here we will estimate the mean, variance and skewness. The expressions for the \"plug in\" estimators for these quantities are\n",
    "* Mean: $\\hat{\\mu}=\\frac{1}{n}\\sum_{i=1}^nX_i$\n",
    "* Variance: $\\hat{\\sigma}^2=\\frac{1}{n}\\sum_{i=1}^n(X_i-\\hat{\\mu})^2$\n",
    "* Skewness: $\\hat{\\kappa}=\\frac{\\frac{1}{n}\\sum_{i=1}^n(X_i-\\hat{\\mu})^3}{\\hat{\\sigma}^3}$\n",
    "\n",
    "Compute the plug in estimators of the mean, variance and skewness for the nerve pulse wait time data."
   ]
  },
  {
   "cell_type": "code",
   "execution_count": null,
   "metadata": {
    "deletable": false,
    "nbgrader": {
     "checksum": "7f123f8087988c39d1da73ae98932e6b",
     "grade": true,
     "grade_id": "cell-a11ec7e089beddcb",
     "locked": false,
     "points": 5,
     "schema_version": 1,
     "solution": true
    }
   },
   "outputs": [],
   "source": [
    "# Your code here\n",
    "#mu_hat=\n",
    "#var_hat=\n",
    "#kappa_hat=\n",
    "# YOUR CODE HERE\n",
    "raise NotImplementedError()"
   ]
  },
  {
   "cell_type": "code",
   "execution_count": null,
   "metadata": {},
   "outputs": [],
   "source": []
  }
 ],
 "metadata": {
  "kernelspec": {
   "display_name": "Python 3",
   "language": "python",
   "name": "python3"
  },
  "language_info": {
   "codemirror_mode": {
    "name": "ipython",
    "version": 3
   },
   "file_extension": ".py",
   "mimetype": "text/x-python",
   "name": "python",
   "nbconvert_exporter": "python",
   "pygments_lexer": "ipython3",
   "version": "3.6.4"
  }
 },
 "nbformat": 4,
 "nbformat_minor": 2
}
